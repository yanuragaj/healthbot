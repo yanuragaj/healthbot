{
 "cells": [
  {
   "cell_type": "code",
   "execution_count": 13,
   "id": "6a82a065",
   "metadata": {},
   "outputs": [],
   "source": [
    "from tensorflow import keras\n"
   ]
  },
  {
   "cell_type": "code",
   "execution_count": 24,
   "id": "45bc020c",
   "metadata": {},
   "outputs": [],
   "source": [
    "model = keras.models.load_model('100%.h5')"
   ]
  },
  {
   "cell_type": "code",
   "execution_count": 25,
   "id": "34de180d",
   "metadata": {},
   "outputs": [],
   "source": [
    "p=model.predict([[22,1,0,0,1]])  #1"
   ]
  },
  {
   "cell_type": "code",
   "execution_count": 26,
   "id": "9fcf7c94",
   "metadata": {},
   "outputs": [
    {
     "data": {
      "text/plain": [
       "array([[9.9946624e-01, 5.3376256e-04, 1.6233982e-12]], dtype=float32)"
      ]
     },
     "execution_count": 26,
     "metadata": {},
     "output_type": "execute_result"
    }
   ],
   "source": [
    "p"
   ]
  },
  {
   "cell_type": "code",
   "execution_count": 27,
   "id": "2ff2da3e",
   "metadata": {},
   "outputs": [],
   "source": [
    "p=model.predict([[42,1,0,1,0]]) #2"
   ]
  },
  {
   "cell_type": "code",
   "execution_count": 28,
   "id": "81aaf0d9",
   "metadata": {},
   "outputs": [
    {
     "data": {
      "text/plain": [
       "array([[1.1168631e-03, 9.9867851e-01, 2.0461672e-04]], dtype=float32)"
      ]
     },
     "execution_count": 28,
     "metadata": {},
     "output_type": "execute_result"
    }
   ],
   "source": [
    "p"
   ]
  },
  {
   "cell_type": "code",
   "execution_count": 29,
   "id": "f3c4346c",
   "metadata": {},
   "outputs": [],
   "source": [
    "x=[42,1,0,1,0]"
   ]
  },
  {
   "cell_type": "code",
   "execution_count": 31,
   "id": "14ad820c",
   "metadata": {},
   "outputs": [],
   "source": [
    "p=model.predict([x])"
   ]
  },
  {
   "cell_type": "code",
   "execution_count": 32,
   "id": "6b887f36",
   "metadata": {},
   "outputs": [
    {
     "data": {
      "text/plain": [
       "array([[1.1168631e-03, 9.9867851e-01, 2.0461672e-04]], dtype=float32)"
      ]
     },
     "execution_count": 32,
     "metadata": {},
     "output_type": "execute_result"
    }
   ],
   "source": [
    "p"
   ]
  },
  {
   "cell_type": "code",
   "execution_count": null,
   "id": "da6557c3",
   "metadata": {},
   "outputs": [],
   "source": []
  }
 ],
 "metadata": {
  "kernelspec": {
   "display_name": "Python 3",
   "language": "python",
   "name": "python3"
  },
  "language_info": {
   "codemirror_mode": {
    "name": "ipython",
    "version": 3
   },
   "file_extension": ".py",
   "mimetype": "text/x-python",
   "name": "python",
   "nbconvert_exporter": "python",
   "pygments_lexer": "ipython3",
   "version": "3.8.8"
  }
 },
 "nbformat": 4,
 "nbformat_minor": 5
}
