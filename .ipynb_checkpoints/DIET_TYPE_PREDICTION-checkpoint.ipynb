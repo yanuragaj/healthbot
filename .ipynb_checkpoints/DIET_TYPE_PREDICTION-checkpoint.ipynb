{
 "cells": [
  {
   "cell_type": "code",
   "execution_count": 1,
   "metadata": {
    "id": "T76OIwWJC027"
   },
   "outputs": [],
   "source": [
    "import pandas as pd"
   ]
  },
  {
   "cell_type": "code",
   "execution_count": 2,
   "metadata": {
    "id": "t-_Bwq43DGhc"
   },
   "outputs": [],
   "source": [
    "ds = pd.read_csv('model2_Dataa.csv')"
   ]
  },
  {
   "cell_type": "code",
   "execution_count": 3,
   "metadata": {
    "id": "qaraNCEsDGoA"
   },
   "outputs": [],
   "source": [
    "y=ds['Diet']"
   ]
  },
  {
   "cell_type": "code",
   "execution_count": 4,
   "metadata": {
    "id": "39J5AvBIDGwF"
   },
   "outputs": [],
   "source": [
    "y_cat = pd.get_dummies(y)"
   ]
  },
  {
   "cell_type": "code",
   "execution_count": 5,
   "metadata": {
    "id": "zfPSI9NsDG1W"
   },
   "outputs": [],
   "source": [
    "X =ds[ ['age', 'Diabeties', 'BP',\n",
    "       'Prefer Dairy Products', 'Prefer Food Type'] ]"
   ]
  },
  {
   "cell_type": "code",
   "execution_count": 6,
   "metadata": {
    "id": "dUe1_x4HDG7J"
   },
   "outputs": [],
   "source": [
    "db = X['Diabeties']"
   ]
  },
  {
   "cell_type": "code",
   "execution_count": 7,
   "metadata": {
    "id": "f02_NT2EDG-X"
   },
   "outputs": [],
   "source": [
    "db = pd.get_dummies(db , drop_first=True)"
   ]
  },
  {
   "cell_type": "code",
   "execution_count": 8,
   "metadata": {
    "id": "bkyBFS5TDHRN"
   },
   "outputs": [],
   "source": [
    "bp = X['BP']"
   ]
  },
  {
   "cell_type": "code",
   "execution_count": 9,
   "metadata": {
    "id": "cavTm5YhDkYp"
   },
   "outputs": [],
   "source": [
    "bp= pd.get_dummies(bp , drop_first=True)"
   ]
  },
  {
   "cell_type": "code",
   "execution_count": 10,
   "metadata": {
    "id": "4ZI15FiJDnhV"
   },
   "outputs": [],
   "source": [
    "fd = X['Prefer Food Type']"
   ]
  },
  {
   "cell_type": "code",
   "execution_count": 11,
   "metadata": {
    "id": "24ouxfhzDkin"
   },
   "outputs": [],
   "source": [
    "fd  = pd.get_dummies(fd, drop_first=True)"
   ]
  },
  {
   "cell_type": "code",
   "execution_count": 12,
   "metadata": {
    "id": "WdAkH1CmDkok"
   },
   "outputs": [],
   "source": [
    "br = X['Prefer Dairy Products']"
   ]
  },
  {
   "cell_type": "code",
   "execution_count": 13,
   "metadata": {
    "id": "sVBuoi_MDqLK"
   },
   "outputs": [],
   "source": [
    "br = pd.get_dummies(br , drop_first=True)"
   ]
  },
  {
   "cell_type": "code",
   "execution_count": 14,
   "metadata": {
    "id": "PVmdqPsrDqVH"
   },
   "outputs": [],
   "source": [
    "brr=br"
   ]
  },
  {
   "cell_type": "code",
   "execution_count": 15,
   "metadata": {},
   "outputs": [
    {
     "data": {
      "text/html": [
       "<div>\n",
       "<style scoped>\n",
       "    .dataframe tbody tr th:only-of-type {\n",
       "        vertical-align: middle;\n",
       "    }\n",
       "\n",
       "    .dataframe tbody tr th {\n",
       "        vertical-align: top;\n",
       "    }\n",
       "\n",
       "    .dataframe thead th {\n",
       "        text-align: right;\n",
       "    }\n",
       "</style>\n",
       "<table border=\"1\" class=\"dataframe\">\n",
       "  <thead>\n",
       "    <tr style=\"text-align: right;\">\n",
       "      <th></th>\n",
       "      <th>Sometimes</th>\n",
       "      <th>Yes</th>\n",
       "    </tr>\n",
       "  </thead>\n",
       "  <tbody>\n",
       "    <tr>\n",
       "      <th>0</th>\n",
       "      <td>0</td>\n",
       "      <td>1</td>\n",
       "    </tr>\n",
       "    <tr>\n",
       "      <th>1</th>\n",
       "      <td>0</td>\n",
       "      <td>0</td>\n",
       "    </tr>\n",
       "    <tr>\n",
       "      <th>2</th>\n",
       "      <td>0</td>\n",
       "      <td>1</td>\n",
       "    </tr>\n",
       "    <tr>\n",
       "      <th>3</th>\n",
       "      <td>0</td>\n",
       "      <td>1</td>\n",
       "    </tr>\n",
       "    <tr>\n",
       "      <th>4</th>\n",
       "      <td>0</td>\n",
       "      <td>1</td>\n",
       "    </tr>\n",
       "    <tr>\n",
       "      <th>...</th>\n",
       "      <td>...</td>\n",
       "      <td>...</td>\n",
       "    </tr>\n",
       "    <tr>\n",
       "      <th>209</th>\n",
       "      <td>0</td>\n",
       "      <td>0</td>\n",
       "    </tr>\n",
       "    <tr>\n",
       "      <th>210</th>\n",
       "      <td>0</td>\n",
       "      <td>0</td>\n",
       "    </tr>\n",
       "    <tr>\n",
       "      <th>211</th>\n",
       "      <td>0</td>\n",
       "      <td>0</td>\n",
       "    </tr>\n",
       "    <tr>\n",
       "      <th>212</th>\n",
       "      <td>0</td>\n",
       "      <td>0</td>\n",
       "    </tr>\n",
       "    <tr>\n",
       "      <th>213</th>\n",
       "      <td>0</td>\n",
       "      <td>0</td>\n",
       "    </tr>\n",
       "  </tbody>\n",
       "</table>\n",
       "<p>214 rows × 2 columns</p>\n",
       "</div>"
      ],
      "text/plain": [
       "     Sometimes  Yes\n",
       "0            0    1\n",
       "1            0    0\n",
       "2            0    1\n",
       "3            0    1\n",
       "4            0    1\n",
       "..         ...  ...\n",
       "209          0    0\n",
       "210          0    0\n",
       "211          0    0\n",
       "212          0    0\n",
       "213          0    0\n",
       "\n",
       "[214 rows x 2 columns]"
      ]
     },
     "execution_count": 15,
     "metadata": {},
     "output_type": "execute_result"
    }
   ],
   "source": [
    "brr"
   ]
  },
  {
   "cell_type": "code",
   "execution_count": 16,
   "metadata": {
    "id": "vMZUybDDDqZ4"
   },
   "outputs": [],
   "source": [
    "brr=pd.get_dummies(br , drop_first=True)"
   ]
  },
  {
   "cell_type": "code",
   "execution_count": 20,
   "metadata": {},
   "outputs": [],
   "source": [
    "brr1=brr['Yes']"
   ]
  },
  {
   "cell_type": "code",
   "execution_count": 22,
   "metadata": {},
   "outputs": [],
   "source": [
    "brr1=pd.get_dummies(brr1, drop_first=True)"
   ]
  },
  {
   "cell_type": "code",
   "execution_count": 23,
   "metadata": {
    "id": "K--WaeDjDqcd"
   },
   "outputs": [
    {
     "data": {
      "text/html": [
       "<div>\n",
       "<style scoped>\n",
       "    .dataframe tbody tr th:only-of-type {\n",
       "        vertical-align: middle;\n",
       "    }\n",
       "\n",
       "    .dataframe tbody tr th {\n",
       "        vertical-align: top;\n",
       "    }\n",
       "\n",
       "    .dataframe thead th {\n",
       "        text-align: right;\n",
       "    }\n",
       "</style>\n",
       "<table border=\"1\" class=\"dataframe\">\n",
       "  <thead>\n",
       "    <tr style=\"text-align: right;\">\n",
       "      <th></th>\n",
       "      <th>1</th>\n",
       "    </tr>\n",
       "  </thead>\n",
       "  <tbody>\n",
       "    <tr>\n",
       "      <th>0</th>\n",
       "      <td>1</td>\n",
       "    </tr>\n",
       "    <tr>\n",
       "      <th>1</th>\n",
       "      <td>0</td>\n",
       "    </tr>\n",
       "    <tr>\n",
       "      <th>2</th>\n",
       "      <td>1</td>\n",
       "    </tr>\n",
       "    <tr>\n",
       "      <th>3</th>\n",
       "      <td>1</td>\n",
       "    </tr>\n",
       "    <tr>\n",
       "      <th>4</th>\n",
       "      <td>1</td>\n",
       "    </tr>\n",
       "    <tr>\n",
       "      <th>...</th>\n",
       "      <td>...</td>\n",
       "    </tr>\n",
       "    <tr>\n",
       "      <th>209</th>\n",
       "      <td>0</td>\n",
       "    </tr>\n",
       "    <tr>\n",
       "      <th>210</th>\n",
       "      <td>0</td>\n",
       "    </tr>\n",
       "    <tr>\n",
       "      <th>211</th>\n",
       "      <td>0</td>\n",
       "    </tr>\n",
       "    <tr>\n",
       "      <th>212</th>\n",
       "      <td>0</td>\n",
       "    </tr>\n",
       "    <tr>\n",
       "      <th>213</th>\n",
       "      <td>0</td>\n",
       "    </tr>\n",
       "  </tbody>\n",
       "</table>\n",
       "<p>214 rows × 1 columns</p>\n",
       "</div>"
      ],
      "text/plain": [
       "     1\n",
       "0    1\n",
       "1    0\n",
       "2    1\n",
       "3    1\n",
       "4    1\n",
       "..  ..\n",
       "209  0\n",
       "210  0\n",
       "211  0\n",
       "212  0\n",
       "213  0\n",
       "\n",
       "[214 rows x 1 columns]"
      ]
     },
     "execution_count": 23,
     "metadata": {},
     "output_type": "execute_result"
    }
   ],
   "source": [
    "brr1"
   ]
  },
  {
   "cell_type": "code",
   "execution_count": 111,
   "metadata": {
    "colab": {
     "base_uri": "https://localhost:8080/",
     "height": 414
    },
    "id": "YFc1GbJpDqgW",
    "outputId": "b2cf30bc-416a-4954-e349-d338d8f35562"
   },
   "outputs": [
    {
     "data": {
      "text/html": [
       "<div>\n",
       "<style scoped>\n",
       "    .dataframe tbody tr th:only-of-type {\n",
       "        vertical-align: middle;\n",
       "    }\n",
       "\n",
       "    .dataframe tbody tr th {\n",
       "        vertical-align: top;\n",
       "    }\n",
       "\n",
       "    .dataframe thead th {\n",
       "        text-align: right;\n",
       "    }\n",
       "</style>\n",
       "<table border=\"1\" class=\"dataframe\">\n",
       "  <thead>\n",
       "    <tr style=\"text-align: right;\">\n",
       "      <th></th>\n",
       "      <th>Sometimes</th>\n",
       "      <th>Yes</th>\n",
       "    </tr>\n",
       "  </thead>\n",
       "  <tbody>\n",
       "    <tr>\n",
       "      <th>0</th>\n",
       "      <td>0</td>\n",
       "      <td>1</td>\n",
       "    </tr>\n",
       "    <tr>\n",
       "      <th>1</th>\n",
       "      <td>0</td>\n",
       "      <td>0</td>\n",
       "    </tr>\n",
       "    <tr>\n",
       "      <th>2</th>\n",
       "      <td>0</td>\n",
       "      <td>1</td>\n",
       "    </tr>\n",
       "    <tr>\n",
       "      <th>3</th>\n",
       "      <td>0</td>\n",
       "      <td>1</td>\n",
       "    </tr>\n",
       "    <tr>\n",
       "      <th>4</th>\n",
       "      <td>0</td>\n",
       "      <td>1</td>\n",
       "    </tr>\n",
       "    <tr>\n",
       "      <th>...</th>\n",
       "      <td>...</td>\n",
       "      <td>...</td>\n",
       "    </tr>\n",
       "    <tr>\n",
       "      <th>209</th>\n",
       "      <td>0</td>\n",
       "      <td>0</td>\n",
       "    </tr>\n",
       "    <tr>\n",
       "      <th>210</th>\n",
       "      <td>0</td>\n",
       "      <td>0</td>\n",
       "    </tr>\n",
       "    <tr>\n",
       "      <th>211</th>\n",
       "      <td>0</td>\n",
       "      <td>0</td>\n",
       "    </tr>\n",
       "    <tr>\n",
       "      <th>212</th>\n",
       "      <td>0</td>\n",
       "      <td>0</td>\n",
       "    </tr>\n",
       "    <tr>\n",
       "      <th>213</th>\n",
       "      <td>0</td>\n",
       "      <td>0</td>\n",
       "    </tr>\n",
       "  </tbody>\n",
       "</table>\n",
       "<p>214 rows × 2 columns</p>\n",
       "</div>"
      ],
      "text/plain": [
       "     Sometimes  Yes\n",
       "0            0    1\n",
       "1            0    0\n",
       "2            0    1\n",
       "3            0    1\n",
       "4            0    1\n",
       "..         ...  ...\n",
       "209          0    0\n",
       "210          0    0\n",
       "211          0    0\n",
       "212          0    0\n",
       "213          0    0\n",
       "\n",
       "[214 rows x 2 columns]"
      ]
     },
     "execution_count": 111,
     "metadata": {},
     "output_type": "execute_result"
    }
   ],
   "source": [
    "brr"
   ]
  },
  {
   "cell_type": "code",
   "execution_count": 25,
   "metadata": {
    "id": "taMQqdEr7V5A"
   },
   "outputs": [],
   "source": [
    "age = ds['age']"
   ]
  },
  {
   "cell_type": "code",
   "execution_count": 26,
   "metadata": {
    "id": "GpvEzrtIDqki"
   },
   "outputs": [],
   "source": [
    "final_dataset = pd.concat( [ age,db,bp,fd,brr1], axis=1)"
   ]
  },
  {
   "cell_type": "code",
   "execution_count": 27,
   "metadata": {
    "id": "lP4gFPf_Dqnf"
   },
   "outputs": [],
   "source": [
    "X=final_dataset"
   ]
  },
  {
   "cell_type": "code",
   "execution_count": 164,
   "metadata": {
    "colab": {
     "base_uri": "https://localhost:8080/",
     "height": 414
    },
    "id": "EMio_TQJ8NsG",
    "outputId": "5c89426e-0769-412a-b2ef-f4477f8a9c4e"
   },
   "outputs": [
    {
     "data": {
      "text/html": [
       "<div>\n",
       "<style scoped>\n",
       "    .dataframe tbody tr th:only-of-type {\n",
       "        vertical-align: middle;\n",
       "    }\n",
       "\n",
       "    .dataframe tbody tr th {\n",
       "        vertical-align: top;\n",
       "    }\n",
       "\n",
       "    .dataframe thead th {\n",
       "        text-align: right;\n",
       "    }\n",
       "</style>\n",
       "<table border=\"1\" class=\"dataframe\">\n",
       "  <thead>\n",
       "    <tr style=\"text-align: right;\">\n",
       "      <th></th>\n",
       "      <th>age</th>\n",
       "      <th>Yes</th>\n",
       "      <th>Yes</th>\n",
       "      <th>Veg</th>\n",
       "      <th>1</th>\n",
       "    </tr>\n",
       "  </thead>\n",
       "  <tbody>\n",
       "    <tr>\n",
       "      <th>0</th>\n",
       "      <td>22</td>\n",
       "      <td>1</td>\n",
       "      <td>0</td>\n",
       "      <td>0</td>\n",
       "      <td>1</td>\n",
       "    </tr>\n",
       "    <tr>\n",
       "      <th>1</th>\n",
       "      <td>42</td>\n",
       "      <td>1</td>\n",
       "      <td>0</td>\n",
       "      <td>1</td>\n",
       "      <td>0</td>\n",
       "    </tr>\n",
       "    <tr>\n",
       "      <th>2</th>\n",
       "      <td>50</td>\n",
       "      <td>0</td>\n",
       "      <td>0</td>\n",
       "      <td>1</td>\n",
       "      <td>1</td>\n",
       "    </tr>\n",
       "    <tr>\n",
       "      <th>3</th>\n",
       "      <td>30</td>\n",
       "      <td>0</td>\n",
       "      <td>0</td>\n",
       "      <td>0</td>\n",
       "      <td>1</td>\n",
       "    </tr>\n",
       "    <tr>\n",
       "      <th>4</th>\n",
       "      <td>34</td>\n",
       "      <td>0</td>\n",
       "      <td>0</td>\n",
       "      <td>1</td>\n",
       "      <td>1</td>\n",
       "    </tr>\n",
       "    <tr>\n",
       "      <th>...</th>\n",
       "      <td>...</td>\n",
       "      <td>...</td>\n",
       "      <td>...</td>\n",
       "      <td>...</td>\n",
       "      <td>...</td>\n",
       "    </tr>\n",
       "    <tr>\n",
       "      <th>110</th>\n",
       "      <td>22</td>\n",
       "      <td>0</td>\n",
       "      <td>1</td>\n",
       "      <td>0</td>\n",
       "      <td>0</td>\n",
       "    </tr>\n",
       "    <tr>\n",
       "      <th>111</th>\n",
       "      <td>55</td>\n",
       "      <td>0</td>\n",
       "      <td>1</td>\n",
       "      <td>0</td>\n",
       "      <td>0</td>\n",
       "    </tr>\n",
       "    <tr>\n",
       "      <th>112</th>\n",
       "      <td>30</td>\n",
       "      <td>0</td>\n",
       "      <td>1</td>\n",
       "      <td>1</td>\n",
       "      <td>0</td>\n",
       "    </tr>\n",
       "    <tr>\n",
       "      <th>113</th>\n",
       "      <td>42</td>\n",
       "      <td>0</td>\n",
       "      <td>1</td>\n",
       "      <td>0</td>\n",
       "      <td>0</td>\n",
       "    </tr>\n",
       "    <tr>\n",
       "      <th>114</th>\n",
       "      <td>45</td>\n",
       "      <td>0</td>\n",
       "      <td>1</td>\n",
       "      <td>0</td>\n",
       "      <td>0</td>\n",
       "    </tr>\n",
       "  </tbody>\n",
       "</table>\n",
       "<p>115 rows × 5 columns</p>\n",
       "</div>"
      ],
      "text/plain": [
       "     age  Yes  Yes  Veg  1\n",
       "0     22    1    0    0  1\n",
       "1     42    1    0    1  0\n",
       "2     50    0    0    1  1\n",
       "3     30    0    0    0  1\n",
       "4     34    0    0    1  1\n",
       "..   ...  ...  ...  ... ..\n",
       "110   22    0    1    0  0\n",
       "111   55    0    1    0  0\n",
       "112   30    0    1    1  0\n",
       "113   42    0    1    0  0\n",
       "114   45    0    1    0  0\n",
       "\n",
       "[115 rows x 5 columns]"
      ]
     },
     "execution_count": 164,
     "metadata": {},
     "output_type": "execute_result"
    }
   ],
   "source": [
    "X[0:115]"
   ]
  },
  {
   "cell_type": "code",
   "execution_count": null,
   "metadata": {},
   "outputs": [],
   "source": []
  },
  {
   "cell_type": "code",
   "execution_count": 29,
   "metadata": {},
   "outputs": [
    {
     "data": {
      "text/html": [
       "<div>\n",
       "<style scoped>\n",
       "    .dataframe tbody tr th:only-of-type {\n",
       "        vertical-align: middle;\n",
       "    }\n",
       "\n",
       "    .dataframe tbody tr th {\n",
       "        vertical-align: top;\n",
       "    }\n",
       "\n",
       "    .dataframe thead th {\n",
       "        text-align: right;\n",
       "    }\n",
       "</style>\n",
       "<table border=\"1\" class=\"dataframe\">\n",
       "  <thead>\n",
       "    <tr style=\"text-align: right;\">\n",
       "      <th></th>\n",
       "      <th>1</th>\n",
       "      <th>2</th>\n",
       "      <th>3</th>\n",
       "    </tr>\n",
       "  </thead>\n",
       "  <tbody>\n",
       "    <tr>\n",
       "      <th>0</th>\n",
       "      <td>1</td>\n",
       "      <td>0</td>\n",
       "      <td>0</td>\n",
       "    </tr>\n",
       "    <tr>\n",
       "      <th>1</th>\n",
       "      <td>0</td>\n",
       "      <td>1</td>\n",
       "      <td>0</td>\n",
       "    </tr>\n",
       "    <tr>\n",
       "      <th>2</th>\n",
       "      <td>0</td>\n",
       "      <td>1</td>\n",
       "      <td>0</td>\n",
       "    </tr>\n",
       "    <tr>\n",
       "      <th>3</th>\n",
       "      <td>0</td>\n",
       "      <td>1</td>\n",
       "      <td>0</td>\n",
       "    </tr>\n",
       "    <tr>\n",
       "      <th>4</th>\n",
       "      <td>0</td>\n",
       "      <td>1</td>\n",
       "      <td>0</td>\n",
       "    </tr>\n",
       "    <tr>\n",
       "      <th>...</th>\n",
       "      <td>...</td>\n",
       "      <td>...</td>\n",
       "      <td>...</td>\n",
       "    </tr>\n",
       "    <tr>\n",
       "      <th>209</th>\n",
       "      <td>0</td>\n",
       "      <td>0</td>\n",
       "      <td>1</td>\n",
       "    </tr>\n",
       "    <tr>\n",
       "      <th>210</th>\n",
       "      <td>0</td>\n",
       "      <td>0</td>\n",
       "      <td>1</td>\n",
       "    </tr>\n",
       "    <tr>\n",
       "      <th>211</th>\n",
       "      <td>0</td>\n",
       "      <td>0</td>\n",
       "      <td>1</td>\n",
       "    </tr>\n",
       "    <tr>\n",
       "      <th>212</th>\n",
       "      <td>0</td>\n",
       "      <td>0</td>\n",
       "      <td>1</td>\n",
       "    </tr>\n",
       "    <tr>\n",
       "      <th>213</th>\n",
       "      <td>0</td>\n",
       "      <td>0</td>\n",
       "      <td>1</td>\n",
       "    </tr>\n",
       "  </tbody>\n",
       "</table>\n",
       "<p>214 rows × 3 columns</p>\n",
       "</div>"
      ],
      "text/plain": [
       "     1  2  3\n",
       "0    1  0  0\n",
       "1    0  1  0\n",
       "2    0  1  0\n",
       "3    0  1  0\n",
       "4    0  1  0\n",
       "..  .. .. ..\n",
       "209  0  0  1\n",
       "210  0  0  1\n",
       "211  0  0  1\n",
       "212  0  0  1\n",
       "213  0  0  1\n",
       "\n",
       "[214 rows x 3 columns]"
      ]
     },
     "execution_count": 29,
     "metadata": {},
     "output_type": "execute_result"
    }
   ],
   "source": [
    "y_cat"
   ]
  },
  {
   "cell_type": "code",
   "execution_count": 30,
   "metadata": {
    "id": "OXS51QW-3hIW"
   },
   "outputs": [],
   "source": [
    "from keras.models import Sequential"
   ]
  },
  {
   "cell_type": "code",
   "execution_count": 31,
   "metadata": {
    "id": "vDwJczOj3hK5"
   },
   "outputs": [],
   "source": [
    "model = Sequential()"
   ]
  },
  {
   "cell_type": "code",
   "execution_count": 32,
   "metadata": {
    "id": "cEIzNXaa3hOc"
   },
   "outputs": [],
   "source": [
    "from keras.layers import Dense"
   ]
  },
  {
   "cell_type": "code",
   "execution_count": 33,
   "metadata": {
    "id": "ugWYIGQQ3hRU"
   },
   "outputs": [],
   "source": [
    "model.add(\n",
    "Dense(units=10,\n",
    "      activation='relu',\n",
    "      input_shape=(5,),\n",
    "      kernel_initializer='he_normal',\n",
    "      bias_initializer='he_normal'\n",
    "))"
   ]
  },
  {
   "cell_type": "code",
   "execution_count": 34,
   "metadata": {
    "id": "22VEgnpy3hVS"
   },
   "outputs": [],
   "source": [
    "model.add(Dense(units=20,\n",
    "               activation='relu',\n",
    "               kernel_initializer='he_normal',\n",
    "      bias_initializer='he_normal'))"
   ]
  },
  {
   "cell_type": "code",
   "execution_count": 35,
   "metadata": {
    "id": "As4OBsnq3hZX"
   },
   "outputs": [],
   "source": [
    "model.add(Dense(units=20,\n",
    "               activation='relu',\n",
    "               kernel_initializer='he_normal',\n",
    "      bias_initializer='he_normal'))"
   ]
  },
  {
   "cell_type": "code",
   "execution_count": 36,
   "metadata": {
    "id": "S7-8qlP-3hfj"
   },
   "outputs": [],
   "source": [
    "model.add(Dense(units=3,\n",
    "                activation='softmax'))"
   ]
  },
  {
   "cell_type": "code",
   "execution_count": 37,
   "metadata": {
    "id": "RITXaeAh3hhp"
   },
   "outputs": [],
   "source": [
    "model.compile(optimizer='adam', \n",
    "            loss='categorical_crossentropy',\n",
    "             metrics=['accuracy'])"
   ]
  },
  {
   "cell_type": "code",
   "execution_count": 38,
   "metadata": {},
   "outputs": [
    {
     "name": "stdout",
     "output_type": "stream",
     "text": [
      "Model: \"sequential\"\n",
      "_________________________________________________________________\n",
      "Layer (type)                 Output Shape              Param #   \n",
      "=================================================================\n",
      "dense (Dense)                (None, 10)                60        \n",
      "_________________________________________________________________\n",
      "dense_1 (Dense)              (None, 20)                220       \n",
      "_________________________________________________________________\n",
      "dense_2 (Dense)              (None, 20)                420       \n",
      "_________________________________________________________________\n",
      "dense_3 (Dense)              (None, 3)                 63        \n",
      "=================================================================\n",
      "Total params: 763\n",
      "Trainable params: 763\n",
      "Non-trainable params: 0\n",
      "_________________________________________________________________\n"
     ]
    }
   ],
   "source": [
    "model.summary()"
   ]
  },
  {
   "cell_type": "code",
   "execution_count": 87,
   "metadata": {
    "colab": {
     "base_uri": "https://localhost:8080/"
    },
    "id": "_cjrO7il3hkG",
    "outputId": "1147d6a1-e316-4e77-e17c-e658618af1e6"
   },
   "outputs": [
    {
     "name": "stdout",
     "output_type": "stream",
     "text": [
      "Epoch 1/120\n",
      "7/7 [==============================] - 0s 2ms/step - loss: 0.0636 - accuracy: 0.9907\n",
      "Epoch 2/120\n",
      "7/7 [==============================] - 0s 3ms/step - loss: 0.0538 - accuracy: 0.9953\n",
      "Epoch 3/120\n",
      "7/7 [==============================] - 0s 3ms/step - loss: 0.0585 - accuracy: 0.9907\n",
      "Epoch 4/120\n",
      "7/7 [==============================] - 0s 3ms/step - loss: 0.0523 - accuracy: 1.0000\n",
      "Epoch 5/120\n",
      "7/7 [==============================] - 0s 2ms/step - loss: 0.0525 - accuracy: 0.9953\n",
      "Epoch 6/120\n",
      "7/7 [==============================] - 0s 3ms/step - loss: 0.0519 - accuracy: 1.0000\n",
      "Epoch 7/120\n",
      "7/7 [==============================] - 0s 3ms/step - loss: 0.0515 - accuracy: 1.0000\n",
      "Epoch 8/120\n",
      "7/7 [==============================] - 0s 3ms/step - loss: 0.0519 - accuracy: 1.0000\n",
      "Epoch 9/120\n",
      "7/7 [==============================] - 0s 3ms/step - loss: 0.0500 - accuracy: 1.0000\n",
      "Epoch 10/120\n",
      "7/7 [==============================] - 0s 3ms/step - loss: 0.0498 - accuracy: 0.9953\n",
      "Epoch 11/120\n",
      "7/7 [==============================] - 0s 2ms/step - loss: 0.0499 - accuracy: 1.0000\n",
      "Epoch 12/120\n",
      "7/7 [==============================] - 0s 4ms/step - loss: 0.0510 - accuracy: 1.0000\n",
      "Epoch 13/120\n",
      "7/7 [==============================] - 0s 2ms/step - loss: 0.0501 - accuracy: 0.9907\n",
      "Epoch 14/120\n",
      "7/7 [==============================] - 0s 3ms/step - loss: 0.0521 - accuracy: 1.0000\n",
      "Epoch 15/120\n",
      "7/7 [==============================] - 0s 3ms/step - loss: 0.0651 - accuracy: 0.9860\n",
      "Epoch 16/120\n",
      "7/7 [==============================] - 0s 3ms/step - loss: 0.0655 - accuracy: 0.9953\n",
      "Epoch 17/120\n",
      "7/7 [==============================] - 0s 3ms/step - loss: 0.0536 - accuracy: 0.9907\n",
      "Epoch 18/120\n",
      "7/7 [==============================] - 0s 3ms/step - loss: 0.0487 - accuracy: 1.0000\n",
      "Epoch 19/120\n",
      "7/7 [==============================] - 0s 3ms/step - loss: 0.0516 - accuracy: 0.9907\n",
      "Epoch 20/120\n",
      "7/7 [==============================] - 0s 3ms/step - loss: 0.0563 - accuracy: 1.0000\n",
      "Epoch 21/120\n",
      "7/7 [==============================] - 0s 3ms/step - loss: 0.0513 - accuracy: 0.9953\n",
      "Epoch 22/120\n",
      "7/7 [==============================] - 0s 3ms/step - loss: 0.0493 - accuracy: 0.9953\n",
      "Epoch 23/120\n",
      "7/7 [==============================] - 0s 5ms/step - loss: 0.0456 - accuracy: 1.0000\n",
      "Epoch 24/120\n",
      "7/7 [==============================] - 0s 3ms/step - loss: 0.0451 - accuracy: 1.0000\n",
      "Epoch 25/120\n",
      "7/7 [==============================] - 0s 3ms/step - loss: 0.0449 - accuracy: 1.0000\n",
      "Epoch 26/120\n",
      "7/7 [==============================] - 0s 3ms/step - loss: 0.0466 - accuracy: 1.0000\n",
      "Epoch 27/120\n",
      "7/7 [==============================] - 0s 3ms/step - loss: 0.0449 - accuracy: 1.0000\n",
      "Epoch 28/120\n",
      "7/7 [==============================] - 0s 3ms/step - loss: 0.0457 - accuracy: 1.0000\n",
      "Epoch 29/120\n",
      "7/7 [==============================] - 0s 3ms/step - loss: 0.0431 - accuracy: 1.0000\n",
      "Epoch 30/120\n",
      "7/7 [==============================] - 0s 3ms/step - loss: 0.0435 - accuracy: 1.0000\n",
      "Epoch 31/120\n",
      "7/7 [==============================] - 0s 4ms/step - loss: 0.0424 - accuracy: 1.0000\n",
      "Epoch 32/120\n",
      "7/7 [==============================] - 0s 3ms/step - loss: 0.0426 - accuracy: 1.0000\n",
      "Epoch 33/120\n",
      "7/7 [==============================] - 0s 3ms/step - loss: 0.0441 - accuracy: 0.9953\n",
      "Epoch 34/120\n",
      "7/7 [==============================] - 0s 3ms/step - loss: 0.0408 - accuracy: 1.0000\n",
      "Epoch 35/120\n",
      "7/7 [==============================] - 0s 4ms/step - loss: 0.0424 - accuracy: 1.0000\n",
      "Epoch 36/120\n",
      "7/7 [==============================] - 0s 3ms/step - loss: 0.0441 - accuracy: 0.9953\n",
      "Epoch 37/120\n",
      "7/7 [==============================] - 0s 3ms/step - loss: 0.0403 - accuracy: 1.0000\n",
      "Epoch 38/120\n",
      "7/7 [==============================] - 0s 4ms/step - loss: 0.0424 - accuracy: 1.0000\n",
      "Epoch 39/120\n",
      "7/7 [==============================] - 0s 4ms/step - loss: 0.0425 - accuracy: 1.0000\n",
      "Epoch 40/120\n",
      "7/7 [==============================] - 0s 4ms/step - loss: 0.0453 - accuracy: 0.9953\n",
      "Epoch 41/120\n",
      "7/7 [==============================] - ETA: 0s - loss: 0.0312 - accuracy: 1.00 - 0s 4ms/step - loss: 0.0380 - accuracy: 1.0000\n",
      "Epoch 42/120\n",
      "7/7 [==============================] - 0s 3ms/step - loss: 0.0459 - accuracy: 0.9860\n",
      "Epoch 43/120\n",
      "7/7 [==============================] - 0s 4ms/step - loss: 0.0533 - accuracy: 1.0000\n",
      "Epoch 44/120\n",
      "7/7 [==============================] - 0s 4ms/step - loss: 0.0438 - accuracy: 0.9953\n",
      "Epoch 45/120\n",
      "7/7 [==============================] - 0s 4ms/step - loss: 0.0402 - accuracy: 1.0000\n",
      "Epoch 46/120\n",
      "7/7 [==============================] - 0s 4ms/step - loss: 0.0386 - accuracy: 1.0000\n",
      "Epoch 47/120\n",
      "7/7 [==============================] - ETA: 0s - loss: 0.0488 - accuracy: 1.00 - 0s 3ms/step - loss: 0.0382 - accuracy: 1.0000\n",
      "Epoch 48/120\n",
      "7/7 [==============================] - 0s 5ms/step - loss: 0.0391 - accuracy: 1.0000\n",
      "Epoch 49/120\n",
      "7/7 [==============================] - 0s 3ms/step - loss: 0.0435 - accuracy: 1.0000\n",
      "Epoch 50/120\n",
      "7/7 [==============================] - 0s 4ms/step - loss: 0.0388 - accuracy: 1.0000\n",
      "Epoch 51/120\n",
      "7/7 [==============================] - 0s 5ms/step - loss: 0.0393 - accuracy: 1.0000\n",
      "Epoch 52/120\n",
      "7/7 [==============================] - 0s 7ms/step - loss: 0.0374 - accuracy: 1.0000\n",
      "Epoch 53/120\n",
      "7/7 [==============================] - 0s 5ms/step - loss: 0.0372 - accuracy: 1.0000\n",
      "Epoch 54/120\n",
      "7/7 [==============================] - 0s 3ms/step - loss: 0.0373 - accuracy: 1.0000\n",
      "Epoch 55/120\n",
      "7/7 [==============================] - 0s 4ms/step - loss: 0.0369 - accuracy: 1.0000\n",
      "Epoch 56/120\n",
      "7/7 [==============================] - 0s 3ms/step - loss: 0.0353 - accuracy: 1.0000\n",
      "Epoch 57/120\n",
      "7/7 [==============================] - 0s 3ms/step - loss: 0.0376 - accuracy: 1.0000\n",
      "Epoch 58/120\n",
      "7/7 [==============================] - 0s 4ms/step - loss: 0.0368 - accuracy: 1.0000\n",
      "Epoch 59/120\n",
      "7/7 [==============================] - 0s 4ms/step - loss: 0.0341 - accuracy: 1.0000\n",
      "Epoch 60/120\n",
      "7/7 [==============================] - 0s 4ms/step - loss: 0.0342 - accuracy: 1.0000\n",
      "Epoch 61/120\n",
      "7/7 [==============================] - ETA: 0s - loss: 0.0397 - accuracy: 1.00 - 0s 4ms/step - loss: 0.0351 - accuracy: 1.0000\n",
      "Epoch 62/120\n",
      "7/7 [==============================] - 0s 5ms/step - loss: 0.0343 - accuracy: 1.0000\n",
      "Epoch 63/120\n",
      "7/7 [==============================] - 0s 3ms/step - loss: 0.0333 - accuracy: 1.0000\n",
      "Epoch 64/120\n",
      "7/7 [==============================] - 0s 4ms/step - loss: 0.0332 - accuracy: 1.0000\n",
      "Epoch 65/120\n",
      "7/7 [==============================] - 0s 3ms/step - loss: 0.0328 - accuracy: 1.0000\n",
      "Epoch 66/120\n",
      "7/7 [==============================] - 0s 4ms/step - loss: 0.0327 - accuracy: 1.0000\n",
      "Epoch 67/120\n",
      "7/7 [==============================] - 0s 3ms/step - loss: 0.0336 - accuracy: 1.0000\n",
      "Epoch 68/120\n",
      "7/7 [==============================] - 0s 3ms/step - loss: 0.0322 - accuracy: 1.0000\n",
      "Epoch 69/120\n",
      "7/7 [==============================] - 0s 4ms/step - loss: 0.0340 - accuracy: 1.0000\n",
      "Epoch 70/120\n",
      "7/7 [==============================] - ETA: 0s - loss: 0.0297 - accuracy: 1.00 - 0s 3ms/step - loss: 0.0322 - accuracy: 1.0000\n",
      "Epoch 71/120\n",
      "7/7 [==============================] - 0s 3ms/step - loss: 0.0326 - accuracy: 1.0000\n",
      "Epoch 72/120\n",
      "7/7 [==============================] - 0s 2ms/step - loss: 0.0330 - accuracy: 1.0000\n",
      "Epoch 73/120\n",
      "7/7 [==============================] - 0s 3ms/step - loss: 0.0325 - accuracy: 1.0000\n",
      "Epoch 74/120\n",
      "7/7 [==============================] - 0s 5ms/step - loss: 0.0326 - accuracy: 1.0000\n",
      "Epoch 75/120\n",
      "7/7 [==============================] - 0s 5ms/step - loss: 0.0313 - accuracy: 1.0000\n",
      "Epoch 76/120\n",
      "7/7 [==============================] - 0s 3ms/step - loss: 0.0321 - accuracy: 1.0000\n",
      "Epoch 77/120\n",
      "7/7 [==============================] - 0s 4ms/step - loss: 0.0312 - accuracy: 1.0000\n",
      "Epoch 78/120\n",
      "7/7 [==============================] - 0s 3ms/step - loss: 0.0315 - accuracy: 1.0000\n",
      "Epoch 79/120\n",
      "7/7 [==============================] - 0s 4ms/step - loss: 0.0303 - accuracy: 1.0000\n",
      "Epoch 80/120\n",
      "7/7 [==============================] - 0s 4ms/step - loss: 0.0357 - accuracy: 1.0000\n",
      "Epoch 81/120\n",
      "7/7 [==============================] - 0s 4ms/step - loss: 0.0395 - accuracy: 0.9953\n",
      "Epoch 82/120\n",
      "7/7 [==============================] - 0s 5ms/step - loss: 0.0426 - accuracy: 1.0000\n"
     ]
    },
    {
     "name": "stdout",
     "output_type": "stream",
     "text": [
      "Epoch 83/120\n",
      "7/7 [==============================] - 0s 4ms/step - loss: 0.0357 - accuracy: 0.9953\n",
      "Epoch 84/120\n",
      "7/7 [==============================] - 0s 5ms/step - loss: 0.0330 - accuracy: 1.0000\n",
      "Epoch 85/120\n",
      "7/7 [==============================] - 0s 5ms/step - loss: 0.0301 - accuracy: 1.0000\n",
      "Epoch 86/120\n",
      "7/7 [==============================] - 0s 5ms/step - loss: 0.0282 - accuracy: 1.0000\n",
      "Epoch 87/120\n",
      "7/7 [==============================] - 0s 3ms/step - loss: 0.0281 - accuracy: 1.0000\n",
      "Epoch 88/120\n",
      "7/7 [==============================] - ETA: 0s - loss: 0.0262 - accuracy: 1.00 - 0s 2ms/step - loss: 0.0279 - accuracy: 1.0000\n",
      "Epoch 89/120\n",
      "7/7 [==============================] - 0s 4ms/step - loss: 0.0277 - accuracy: 1.0000\n",
      "Epoch 90/120\n",
      "7/7 [==============================] - 0s 4ms/step - loss: 0.0273 - accuracy: 1.0000\n",
      "Epoch 91/120\n",
      "7/7 [==============================] - 0s 5ms/step - loss: 0.0277 - accuracy: 1.0000\n",
      "Epoch 92/120\n",
      "7/7 [==============================] - 0s 3ms/step - loss: 0.0278 - accuracy: 1.0000\n",
      "Epoch 93/120\n",
      "7/7 [==============================] - 0s 3ms/step - loss: 0.0269 - accuracy: 1.0000\n",
      "Epoch 94/120\n",
      "7/7 [==============================] - 0s 4ms/step - loss: 0.0276 - accuracy: 1.0000\n",
      "Epoch 95/120\n",
      "7/7 [==============================] - 0s 3ms/step - loss: 0.0287 - accuracy: 1.0000\n",
      "Epoch 96/120\n",
      "7/7 [==============================] - 0s 4ms/step - loss: 0.0284 - accuracy: 1.0000\n",
      "Epoch 97/120\n",
      "7/7 [==============================] - 0s 3ms/step - loss: 0.0269 - accuracy: 1.0000\n",
      "Epoch 98/120\n",
      "7/7 [==============================] - 0s 4ms/step - loss: 0.0269 - accuracy: 1.0000\n",
      "Epoch 99/120\n",
      "7/7 [==============================] - 0s 3ms/step - loss: 0.0265 - accuracy: 1.0000\n",
      "Epoch 100/120\n",
      "7/7 [==============================] - 0s 4ms/step - loss: 0.0250 - accuracy: 1.0000\n",
      "Epoch 101/120\n",
      "7/7 [==============================] - 0s 3ms/step - loss: 0.0255 - accuracy: 1.0000\n",
      "Epoch 102/120\n",
      "7/7 [==============================] - 0s 4ms/step - loss: 0.0272 - accuracy: 1.0000\n",
      "Epoch 103/120\n",
      "7/7 [==============================] - 0s 3ms/step - loss: 0.0252 - accuracy: 1.0000\n",
      "Epoch 104/120\n",
      "7/7 [==============================] - 0s 3ms/step - loss: 0.0258 - accuracy: 1.0000\n",
      "Epoch 105/120\n",
      "7/7 [==============================] - 0s 3ms/step - loss: 0.0253 - accuracy: 1.0000\n",
      "Epoch 106/120\n",
      "7/7 [==============================] - 0s 3ms/step - loss: 0.0245 - accuracy: 1.0000\n",
      "Epoch 107/120\n",
      "7/7 [==============================] - 0s 3ms/step - loss: 0.0246 - accuracy: 1.0000\n",
      "Epoch 108/120\n",
      "7/7 [==============================] - 0s 3ms/step - loss: 0.0248 - accuracy: 1.0000\n",
      "Epoch 109/120\n",
      "7/7 [==============================] - 0s 3ms/step - loss: 0.0244 - accuracy: 1.0000\n",
      "Epoch 110/120\n",
      "7/7 [==============================] - 0s 3ms/step - loss: 0.0247 - accuracy: 1.0000\n",
      "Epoch 111/120\n",
      "7/7 [==============================] - 0s 4ms/step - loss: 0.0238 - accuracy: 1.0000\n",
      "Epoch 112/120\n",
      "7/7 [==============================] - 0s 12ms/step - loss: 0.0238 - accuracy: 1.0000\n",
      "Epoch 113/120\n",
      "7/7 [==============================] - 0s 4ms/step - loss: 0.0233 - accuracy: 1.0000\n",
      "Epoch 114/120\n",
      "7/7 [==============================] - 0s 4ms/step - loss: 0.0229 - accuracy: 1.0000\n",
      "Epoch 115/120\n",
      "7/7 [==============================] - 0s 5ms/step - loss: 0.0243 - accuracy: 1.0000\n",
      "Epoch 116/120\n",
      "7/7 [==============================] - 0s 4ms/step - loss: 0.0250 - accuracy: 1.0000\n",
      "Epoch 117/120\n",
      "7/7 [==============================] - 0s 3ms/step - loss: 0.0297 - accuracy: 1.0000\n",
      "Epoch 118/120\n",
      "7/7 [==============================] - 0s 3ms/step - loss: 0.0243 - accuracy: 1.0000\n",
      "Epoch 119/120\n",
      "7/7 [==============================] - 0s 4ms/step - loss: 0.0257 - accuracy: 1.0000\n",
      "Epoch 120/120\n",
      "7/7 [==============================] - 0s 4ms/step - loss: 0.0223 - accuracy: 1.0000\n"
     ]
    },
    {
     "data": {
      "text/plain": [
       "<keras.callbacks.History at 0x20379e94910>"
      ]
     },
     "execution_count": 87,
     "metadata": {},
     "output_type": "execute_result"
    }
   ],
   "source": [
    "model.fit(X,y_cat,epochs=120)"
   ]
  },
  {
   "cell_type": "code",
   "execution_count": 88,
   "metadata": {
    "id": "vz3P2JYZ3hmV"
   },
   "outputs": [],
   "source": [
    "p=model.predict([[43,0,0,1,0]])    #3"
   ]
  },
  {
   "cell_type": "code",
   "execution_count": 89,
   "metadata": {
    "colab": {
     "base_uri": "https://localhost:8080/"
    },
    "id": "7KsxwQI87t68",
    "outputId": "64fbab06-0c68-4ae0-c388-30cb26b3afb0"
   },
   "outputs": [
    {
     "data": {
      "text/plain": [
       "array([[0.00614573, 0.01348631, 0.980368  ]], dtype=float32)"
      ]
     },
     "execution_count": 89,
     "metadata": {},
     "output_type": "execute_result"
    }
   ],
   "source": [
    "p"
   ]
  },
  {
   "cell_type": "code",
   "execution_count": 90,
   "metadata": {
    "id": "YdntSOc-7uK5"
   },
   "outputs": [],
   "source": [
    "p=model.predict([[42,1,0,1,0]])       #2"
   ]
  },
  {
   "cell_type": "code",
   "execution_count": 91,
   "metadata": {
    "colab": {
     "base_uri": "https://localhost:8080/"
    },
    "id": "ihO6n3Wa7uSl",
    "outputId": "e606031d-b800-4e81-8991-111ad03e1f4a"
   },
   "outputs": [
    {
     "data": {
      "text/plain": [
       "array([[0.03282675, 0.9638059 , 0.00336731]], dtype=float32)"
      ]
     },
     "execution_count": 91,
     "metadata": {},
     "output_type": "execute_result"
    }
   ],
   "source": [
    "p"
   ]
  },
  {
   "cell_type": "code",
   "execution_count": 92,
   "metadata": {
    "id": "HoZp8Qj47uam"
   },
   "outputs": [],
   "source": [
    "p=model.predict([[22,1,0,0,0]])  #1"
   ]
  },
  {
   "cell_type": "code",
   "execution_count": 93,
   "metadata": {
    "colab": {
     "base_uri": "https://localhost:8080/"
    },
    "id": "hf2zUQ4H7ueh",
    "outputId": "986aaf22-ed54-418c-dbb4-2d8d2434e286"
   },
   "outputs": [
    {
     "data": {
      "text/plain": [
       "array([[9.8497957e-01, 1.5014741e-02, 5.7175425e-06]], dtype=float32)"
      ]
     },
     "execution_count": 93,
     "metadata": {},
     "output_type": "execute_result"
    }
   ],
   "source": [
    "p"
   ]
  },
  {
   "cell_type": "code",
   "execution_count": 94,
   "metadata": {
    "id": "Po58JK9M7ukV"
   },
   "outputs": [],
   "source": [
    "p=model.predict([[42,0,1,1,0]]) #1"
   ]
  },
  {
   "cell_type": "code",
   "execution_count": 95,
   "metadata": {
    "colab": {
     "base_uri": "https://localhost:8080/"
    },
    "id": "oSonvVey7url",
    "outputId": "8e6de2d5-fcf9-447c-8e87-835f37f99e76"
   },
   "outputs": [
    {
     "data": {
      "text/plain": [
       "array([[9.8945892e-01, 2.5169800e-11, 1.0541135e-02]], dtype=float32)"
      ]
     },
     "execution_count": 95,
     "metadata": {},
     "output_type": "execute_result"
    }
   ],
   "source": [
    "p"
   ]
  },
  {
   "cell_type": "code",
   "execution_count": 96,
   "metadata": {
    "id": "Db5HxAVD9RiI"
   },
   "outputs": [],
   "source": [
    "p=model.predict([[57,0,0,1,0]]) #3"
   ]
  },
  {
   "cell_type": "code",
   "execution_count": 97,
   "metadata": {
    "colab": {
     "base_uri": "https://localhost:8080/"
    },
    "id": "jjvd6PPO9RzK",
    "outputId": "df2dc722-c338-41bd-8c0e-e04a4f3413d1"
   },
   "outputs": [
    {
     "data": {
      "text/plain": [
       "array([[0.0114712 , 0.01758615, 0.97094256]], dtype=float32)"
      ]
     },
     "execution_count": 97,
     "metadata": {},
     "output_type": "execute_result"
    }
   ],
   "source": [
    "p"
   ]
  },
  {
   "cell_type": "code",
   "execution_count": 98,
   "metadata": {
    "id": "F8ta7SQJBVa5"
   },
   "outputs": [],
   "source": [
    "p=model.predict([[57,0,0,0,0]])  #2"
   ]
  },
  {
   "cell_type": "code",
   "execution_count": 99,
   "metadata": {
    "colab": {
     "base_uri": "https://localhost:8080/"
    },
    "id": "-2zxR0klBVro",
    "outputId": "f2130a75-1859-4792-9f3c-234b9ed74b3b"
   },
   "outputs": [
    {
     "data": {
      "text/plain": [
       "array([[0.00190339, 0.9850449 , 0.01305172]], dtype=float32)"
      ]
     },
     "execution_count": 99,
     "metadata": {},
     "output_type": "execute_result"
    }
   ],
   "source": [
    "p"
   ]
  },
  {
   "cell_type": "code",
   "execution_count": 100,
   "metadata": {
    "id": "k9c0lFIABV0k"
   },
   "outputs": [],
   "source": [
    "p=model.predict([[37,0,0,1,0]])   #3"
   ]
  },
  {
   "cell_type": "code",
   "execution_count": 101,
   "metadata": {
    "colab": {
     "base_uri": "https://localhost:8080/"
    },
    "id": "ied01cVMBV_K",
    "outputId": "0694e5f6-a67e-4e3a-9af7-bc3bcd31e4b3"
   },
   "outputs": [
    {
     "data": {
      "text/plain": [
       "array([[0.00469786, 0.01202235, 0.9832798 ]], dtype=float32)"
      ]
     },
     "execution_count": 101,
     "metadata": {},
     "output_type": "execute_result"
    }
   ],
   "source": [
    "p"
   ]
  },
  {
   "cell_type": "code",
   "execution_count": 102,
   "metadata": {
    "id": "eldtT87ACgZc"
   },
   "outputs": [
    {
     "name": "stdout",
     "output_type": "stream",
     "text": [
      "INFO:tensorflow:Assets written to: 100%.h1\\assets\n"
     ]
    }
   ],
   "source": [
    "model.save('100%.h1')"
   ]
  },
  {
   "cell_type": "code",
   "execution_count": null,
   "metadata": {
    "colab": {
     "base_uri": "https://localhost:8080/"
    },
    "id": "J6GCIePaCvBm",
    "outputId": "0e2114fb-7cb0-4c87-eab6-2e98e210c6c2"
   },
   "outputs": [],
   "source": [
    "    x1 = int(input(\"Enter age\"))               #correct\n",
    "    x2 = int(input(\"Enter 1\"))\n",
    "    x3 = int(input(\"Enter 2\"))\n",
    "    x4 = int(input(\"Enter 3\"))\n",
    "    x5 = int(input(\"Enter 4\"))\n",
    "    op = model.predict([[ int(x1), int(x2), int(x3), int(x4), int(x5)]])\n",
    "    a=op[0][0]\n",
    "    b=op[0][1]\n",
    "    c=op[0][2]\n",
    "    if (a >= b) and (a >= c):\n",
    "        print(1)\n",
    "    elif (b >= a) and (b >= c):\n",
    "        print(2)\n",
    "    \n",
    "    else:\n",
    "        print(3)   "
   ]
  },
  {
   "cell_type": "code",
   "execution_count": 103,
   "metadata": {
    "id": "IaJmqs91CvSg"
   },
   "outputs": [],
   "source": [
    "p=model.predict([[22,1,0,0,1]])  #1"
   ]
  },
  {
   "cell_type": "code",
   "execution_count": 104,
   "metadata": {
    "id": "wZbhB5RdCvWV"
   },
   "outputs": [
    {
     "data": {
      "text/plain": [
       "array([[9.9987960e-01, 1.2041288e-04, 1.0830421e-09]], dtype=float32)"
      ]
     },
     "execution_count": 104,
     "metadata": {},
     "output_type": "execute_result"
    }
   ],
   "source": [
    "p"
   ]
  },
  {
   "cell_type": "code",
   "execution_count": 105,
   "metadata": {
    "id": "5Gh-26zUCvZU"
   },
   "outputs": [],
   "source": [
    "p=model.predict([[42,1,0,1,0]]) #2"
   ]
  },
  {
   "cell_type": "code",
   "execution_count": 106,
   "metadata": {},
   "outputs": [
    {
     "data": {
      "text/plain": [
       "array([[0.03282675, 0.9638059 , 0.00336731]], dtype=float32)"
      ]
     },
     "execution_count": 106,
     "metadata": {},
     "output_type": "execute_result"
    }
   ],
   "source": [
    "p"
   ]
  },
  {
   "cell_type": "code",
   "execution_count": 107,
   "metadata": {},
   "outputs": [],
   "source": [
    "p=model.predict([[43,0,0,1,0]]) #3"
   ]
  },
  {
   "cell_type": "code",
   "execution_count": 108,
   "metadata": {},
   "outputs": [
    {
     "data": {
      "text/plain": [
       "array([[0.00614573, 0.01348631, 0.980368  ]], dtype=float32)"
      ]
     },
     "execution_count": 108,
     "metadata": {},
     "output_type": "execute_result"
    }
   ],
   "source": [
    "p"
   ]
  },
  {
   "cell_type": "code",
   "execution_count": 109,
   "metadata": {},
   "outputs": [],
   "source": [
    "p=model.predict([[53,0,0,1,0]]) #3"
   ]
  },
  {
   "cell_type": "code",
   "execution_count": 110,
   "metadata": {},
   "outputs": [
    {
     "data": {
      "text/plain": [
       "array([[0.00960227, 0.01630968, 0.9740881 ]], dtype=float32)"
      ]
     },
     "execution_count": 110,
     "metadata": {},
     "output_type": "execute_result"
    }
   ],
   "source": [
    "p"
   ]
  },
  {
   "cell_type": "code",
   "execution_count": 112,
   "metadata": {},
   "outputs": [],
   "source": [
    "p=model.predict([[34,0,0,1,1]]) #2"
   ]
  },
  {
   "cell_type": "code",
   "execution_count": 113,
   "metadata": {},
   "outputs": [
    {
     "data": {
      "text/plain": [
       "array([[7.512555e-05, 9.914910e-01, 8.433839e-03]], dtype=float32)"
      ]
     },
     "execution_count": 113,
     "metadata": {},
     "output_type": "execute_result"
    }
   ],
   "source": [
    "p"
   ]
  },
  {
   "cell_type": "code",
   "execution_count": 114,
   "metadata": {},
   "outputs": [],
   "source": [
    "import math"
   ]
  },
  {
   "cell_type": "code",
   "execution_count": 115,
   "metadata": {},
   "outputs": [
    {
     "data": {
      "text/plain": [
       "6"
      ]
     },
     "execution_count": 115,
     "metadata": {},
     "output_type": "execute_result"
    }
   ],
   "source": [
    "max(4,5,6)"
   ]
  },
  {
   "cell_type": "code",
   "execution_count": 117,
   "metadata": {},
   "outputs": [
    {
     "data": {
      "text/plain": [
       "0.991491"
      ]
     },
     "execution_count": 117,
     "metadata": {},
     "output_type": "execute_result"
    }
   ],
   "source": [
    "max(7.512555e-05, 9.914910e-01, 8.433839e-03)"
   ]
  },
  {
   "cell_type": "code",
   "execution_count": 157,
   "metadata": {},
   "outputs": [],
   "source": [
    "p=model.predict([[22,0,1,0,0]]) #1"
   ]
  },
  {
   "cell_type": "code",
   "execution_count": 158,
   "metadata": {},
   "outputs": [
    {
     "data": {
      "text/plain": [
       "array([[9.9785429e-01, 1.6171178e-08, 2.1457330e-03]], dtype=float32)"
      ]
     },
     "execution_count": 158,
     "metadata": {},
     "output_type": "execute_result"
    }
   ],
   "source": [
    "p"
   ]
  },
  {
   "cell_type": "code",
   "execution_count": 165,
   "metadata": {},
   "outputs": [],
   "source": [
    "p=model.predict([[30,0,1,1,0]]) #1"
   ]
  },
  {
   "cell_type": "code",
   "execution_count": 166,
   "metadata": {},
   "outputs": [
    {
     "data": {
      "text/plain": [
       "array([[9.9943656e-01, 7.6183521e-12, 5.6338578e-04]], dtype=float32)"
      ]
     },
     "execution_count": 166,
     "metadata": {},
     "output_type": "execute_result"
    }
   ],
   "source": [
    "p"
   ]
  },
  {
   "cell_type": "code",
   "execution_count": null,
   "metadata": {},
   "outputs": [],
   "source": []
  }
 ],
 "metadata": {
  "colab": {
   "name": "Model2_Test2.ipynb",
   "provenance": []
  },
  "kernelspec": {
   "display_name": "Python 3",
   "language": "python",
   "name": "python3"
  },
  "language_info": {
   "codemirror_mode": {
    "name": "ipython",
    "version": 3
   },
   "file_extension": ".py",
   "mimetype": "text/x-python",
   "name": "python",
   "nbconvert_exporter": "python",
   "pygments_lexer": "ipython3",
   "version": "3.8.8"
  }
 },
 "nbformat": 4,
 "nbformat_minor": 1
}
